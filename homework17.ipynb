{
 "cells": [
  {
   "cell_type": "markdown",
   "id": "24e0f329",
   "metadata": {},
   "source": [
    "## number 1"
   ]
  },
  {
   "cell_type": "code",
   "execution_count": 50,
   "id": "359e7408",
   "metadata": {},
   "outputs": [],
   "source": [
    "f = open('numbers.txt','r')\n",
    "lst = f.read().split()\n",
    "f.close()\n",
    "lst = [int(i) for i in lst]\n",
    "f = open('answer.txt', 'w')\n",
    "a = '%d'%(sum(lst))\n",
    "f.write(a)\n",
    "f.close()"
   ]
  },
  {
   "cell_type": "markdown",
   "id": "4616908b",
   "metadata": {},
   "source": [
    "## numder 2"
   ]
  },
  {
   "cell_type": "code",
   "execution_count": 45,
   "id": "3a0b6c26",
   "metadata": {},
   "outputs": [
    {
     "name": "stdout",
     "output_type": "stream",
     "text": [
      "Namespaces are one honking great idea -- let's do more of those!\n",
      "\n",
      "If the implementation is easy to explain, it may be a good idea.\n",
      "\n",
      "If the implementation is hard to explain, it's a bad idea.\n",
      "\n",
      "Although never is often better than *right* now.\n",
      "\n",
      "Now is better than never.\n",
      "\n",
      "Although that way may not be obvious at first unless you're Dutch.\n",
      "\n",
      "There should be one-- and preferably only one --obvious way to do it.\n",
      "\n",
      "In the face of ambiguity, refuse the temptation to guess.\n",
      "\n",
      "Unless explicitly silenced.\n",
      "\n",
      "Errors should never pass silently.\n",
      "\n",
      "Although practicality beats purity.\n",
      "\n",
      "Special cases aren't special enough to break the rules.\n",
      "\n",
      "Readability counts.\n",
      "\n",
      "Sparse is better than dense.\n",
      "\n",
      "Flat is better than nested.\n",
      "\n",
      "Complex is better than complicated.\n",
      "\n",
      "Simple is better than complex.\n",
      "\n",
      "Explicit is better than implicit.\n",
      "\n",
      "Beautiful is better than ugly.\n",
      "\n"
     ]
    }
   ],
   "source": [
    "f = open('zen.txt', 'r')\n",
    "line = f.readlines()\n",
    "f.close()\n",
    "print('\\n'.join(line[::-1]))"
   ]
  },
  {
   "cell_type": "markdown",
   "id": "21068745",
   "metadata": {},
   "source": [
    "## number 3"
   ]
  },
  {
   "cell_type": "code",
   "execution_count": 16,
   "id": "bcf0941e",
   "metadata": {},
   "outputs": [
    {
     "name": "stdout",
     "output_type": "stream",
     "text": [
      "Всего слов: 652 букв: 137 строк: 20\n",
      "Самая редко встречаемая буква в файле: j\n"
     ]
    }
   ],
   "source": [
    "alphabet = ['a', 'b', 'c', 'd', 'e', 'f', 'g', 'h', 'i', 'j', 'k', 'l', 'm', 'n', 'o', 'p', 'q', 'r', 's', 't', 'u', 'v', 'w', 'x', 'y', 'z']\n",
    "f = open('zen.txt', 'r')\n",
    "line = f.read()\n",
    "lit = 0\n",
    "lst = [line.lower().count(i) for i in alphabet]\n",
    "index = lst.index(min(lst))\n",
    "words = len(line.split())\n",
    "lines = len(line.split('\\n'))\n",
    "print('Всего слов:', sum(lst),'букв:',  words,'строк:',  lines)\n",
    "print('Самая редко встречаемая буква в файле:', alphabet[index])"
   ]
  },
  {
   "cell_type": "markdown",
   "id": "c5800e33",
   "metadata": {},
   "source": [
    "## number 4"
   ]
  },
  {
   "cell_type": "code",
   "execution_count": 15,
   "id": "5b4df621",
   "metadata": {},
   "outputs": [
    {
     "name": "stdout",
     "output_type": "stream",
     "text": [
      "Введите путь до каталога: C:\\Users\\s8983\\Desktop\\Smirnaia_py\n",
      "Размер каталога (в Кб): 72.708984375\n",
      "Количество подкаталогов: 31\n",
      "Количество файлов: 150\n"
     ]
    }
   ],
   "source": [
    "import os\n",
    "fpath = input('Введите путь до каталога: ')\n",
    "files = 0\n",
    "direc = 0\n",
    "size = 0\n",
    "for dirpath, dirnames, filenames in os.walk(fpath):\n",
    "    for dirname in dirnames:\n",
    "        direc += 1 \n",
    "    for filename in filenames:\n",
    "        files += 1\n",
    "        size += os.stat(os.path.join(dirpath, filename)).st_size\n",
    "print(\"Размер каталога (в Кб):\", size/1024)\n",
    "print(\"Количество подкаталогов:\", direc)\n",
    "print(\"Количество файлов:\", files)"
   ]
  },
  {
   "cell_type": "markdown",
   "id": "d902eb47",
   "metadata": {},
   "source": [
    "## number 5"
   ]
  },
  {
   "cell_type": "code",
   "execution_count": 51,
   "id": "0af0447e",
   "metadata": {},
   "outputs": [
    {
     "name": "stdout",
     "output_type": "stream",
     "text": [
      "Введите строку: hello, brother\n",
      "Куда хотите сохранить документ? Введите последовательность папок (через пробел): Users s8983 Desktop Smirnaia_py\n",
      "Введите имя файла: hel\n",
      "Вы действительно хотите перезаписать файл? да\n",
      "Файл успешно перезаписан!\n",
      "Содержимое файла:\n",
      "hello, brother\n"
     ]
    }
   ],
   "source": [
    "import os\n",
    "\n",
    "def funcpath():\n",
    "    text = input('Введите строку: ')\n",
    "    path = input('Куда хотите сохранить документ? Введите последовательность папок (через пробел): ').split()\n",
    "    fpath = 'C:\\\\'\n",
    "    for i in range(len(path)):\n",
    "        fpath += path[i]\n",
    "        fpath += '\\\\'\n",
    "    file = input('Введите имя файла: ')\n",
    "    file += '.txt'\n",
    "    respath = fpath+file\n",
    "    if os.path.exists(fpath):\n",
    "        os.chdir(fpath)\n",
    "        f = open(file, 'w')\n",
    "        if os.path.isfile(respath):\n",
    "            answ = input('Вы действительно хотите перезаписать файл? ')\n",
    "            if answ.lower() == 'да':\n",
    "                f.write(text)\n",
    "                print('Файл успешно перезаписан!')\n",
    "        else:\n",
    "            f.write(text)\n",
    "            print('Файл успешно сохранён!')\n",
    "        print('Содержимое файла:')\n",
    "        f.close()\n",
    "        f = open(file, 'r')\n",
    "        return(f.read())\n",
    "    else:\n",
    "        return('Такого пути на диске нет')\n",
    "    \n",
    "print(funcpath())\n"
   ]
  },
  {
   "cell_type": "markdown",
   "id": "d8fde56c",
   "metadata": {},
   "source": [
    "## number 6"
   ]
  },
  {
   "cell_type": "code",
   "execution_count": 4,
   "id": "cc15a57b",
   "metadata": {},
   "outputs": [
    {
     "name": "stdout",
     "output_type": "stream",
     "text": [
      "Содержимое файла text.txt:\n",
      "Hello\n",
      "Hello\n",
      "Hello\n",
      "Hello\n",
      "Содержимое файла cipher_text.txt:\n",
      "Ifmmp\n",
      "Jgnnq\n",
      "Khoor\n",
      "Lipps\n",
      "\n"
     ]
    }
   ],
   "source": [
    "import os\n",
    "alphabet = ['a', 'b', 'c', 'd', 'e', 'f', 'g', 'h', 'i', 'j', 'k', 'l', 'm', 'n', 'o', 'p', 'q', 'r', 's', 't', 'u', 'v', 'w', 'x', 'y', 'z']\n",
    "\n",
    "\n",
    "def shift(num, elem):\n",
    "    up = 0\n",
    "    if elem not in alphabet:\n",
    "        elem = elem.lower()\n",
    "        up = 1\n",
    "    if (alphabet.index(elem) + num) > len(alphabet):\n",
    "        if up == 1:\n",
    "            return alphabet[alphabet.index(elem) + num - len(alphabet)].upper()\n",
    "        else:\n",
    "            return alphabet[alphabet.index(elem) + num - len(alphabet)]\n",
    "    else:\n",
    "        if up == 1:\n",
    "            return alphabet[alphabet.index(elem) + num].upper()\n",
    "        else:\n",
    "            return alphabet[alphabet.index(elem) + num]\n",
    "        \n",
    "        \n",
    "f = open('text.txt', 'r')\n",
    "print('Содержимое файла text.txt:', f.read(), sep='\\n')\n",
    "f.close()\n",
    "f = open('text.txt', 'r')\n",
    "line = f.readlines()\n",
    "f.close()\n",
    "f = open('cipher_text.txt', 'w')\n",
    "\n",
    "for i in range(len(line)):\n",
    "    str = []\n",
    "    for k in range(len(line[i])):\n",
    "        if line[i][k] != '\\n':\n",
    "            str.append(shift(i+1, line[i][k]))\n",
    "    f.write(''.join(str))\n",
    "    f.write('\\n')\n",
    "f.close()\n",
    "f = open('cipher_text.txt', 'r')\n",
    "print('Содержимое файла cipher_text.txt:', f.read(), sep='\\n')\n",
    "\n",
    "        \n",
    "    "
   ]
  },
  {
   "cell_type": "markdown",
   "id": "572d9e53",
   "metadata": {},
   "source": [
    "## number 7"
   ]
  },
  {
   "cell_type": "code",
   "execution_count": 67,
   "id": "984523c0",
   "metadata": {},
   "outputs": [
    {
     "name": "stdout",
     "output_type": "stream",
     "text": [
      "Содержимое файла first_tour.txt:\n",
      "80\n",
      "Ivanov Serg 80\n",
      "Segeev Petr 92\n",
      "Petrov Vasiliy 98\n",
      "Vasiliev Maxim 78\n",
      "Содержимое файла second_tour.txt:\n",
      "2\n",
      "1)V.Petrov 98\n",
      "2)P.Segeev 92\n",
      "\n"
     ]
    }
   ],
   "source": [
    "import os \n",
    "\n",
    "def custom_key(lstt): \n",
    "    return int(lstt[2])\n",
    "\n",
    "\n",
    "f = open('first_tour.txt', 'r')\n",
    "print('Содержимое файла first_tour.txt:', f.read(), sep='\\n')\n",
    "f.close()\n",
    "f = open('first_tour.txt', 'r')\n",
    "score = int(f.readline())\n",
    "lst = f.readlines()\n",
    "f.close()\n",
    "newlst = []\n",
    "for k in range(len(lst)):\n",
    "    lst[k] = (lst[k]).split()\n",
    "    if int(lst[k][2]) > score:\n",
    "        newlst.append(lst[k])    \n",
    "newlst.sort(key=custom_key, reverse=True)\n",
    "f = open('second_tour.txt', 'w')\n",
    "f.write('%d'%(len(newlst)))\n",
    "f.write('\\n')\n",
    "for i in range(len(newlst)):\n",
    "    f.write(f'{i+1}){newlst[i][1][0]}.{newlst[i][0]} {newlst[i][2]}')\n",
    "    f.write('\\n')\n",
    "f.close()\n",
    "f = open('second_tour.txt', 'r')\n",
    "print('Содержимое файла second_tour.txt:', f.read(), sep='\\n')\n",
    "f.close()"
   ]
  },
  {
   "cell_type": "markdown",
   "id": "0682d167",
   "metadata": {},
   "source": [
    "## number 8"
   ]
  },
  {
   "cell_type": "code",
   "execution_count": 42,
   "id": "4f97fbb0",
   "metadata": {},
   "outputs": [
    {
     "name": "stdout",
     "output_type": "stream",
     "text": [
      "Содержимое файла textt.txt:\n",
      "Mama myla ramu.\n",
      "Содержимое файла analysis.txt:\n",
      "a 0.333\n",
      "m 0.333\n",
      "l 0.083\n",
      "r 0.083\n",
      "u 0.083\n",
      "y 0.083\n",
      "\n"
     ]
    }
   ],
   "source": [
    "import os\n",
    "alphabet = ['a', 'b', 'c', 'd', 'e', 'f', 'g', 'h', 'i', 'j', 'k', 'l', 'm', 'n', 'o', 'p', 'q', 'r', 's', 't', 'u', 'v', 'w', 'x', 'y', 'z']\n",
    "\n",
    "\n",
    "def nom(a):\n",
    "    return a[1] - 0.000001*alphabet.index(a[0])\n",
    "\n",
    "\n",
    "\n",
    "f = open('textt.txt', 'r')\n",
    "dictt = dict()\n",
    "line = f.read()\n",
    "f.close()\n",
    "print('Содержимое файла textt.txt:', line, sep='\\n')\n",
    "for i in range(len(line)):\n",
    "    if line[i].lower() in alphabet:\n",
    "        dictt[line[i].lower()] = line.lower().count(line[i])\n",
    "alllit = sum(dictt.values())\n",
    "for key, val in dictt.items():\n",
    "    dictt[key] = round(val/alllit, 3)\n",
    "res = list(dictt.items())\n",
    "res.sort(key=nom, reverse=True)\n",
    "f = open('analysis.txt', 'w')\n",
    "for k in range(len(res)):\n",
    "    f.write(f'{res[k][0]} {res[k][1]}\\n')\n",
    "f.close()\n",
    "f = open('analysis.txt', 'r')\n",
    "print('Содержимое файла analysis.txt:', f.read(), sep='\\n')\n",
    "f.close()"
   ]
  },
  {
   "cell_type": "markdown",
   "id": "41815ab3",
   "metadata": {},
   "source": [
    "## number 9"
   ]
  },
  {
   "cell_type": "code",
   "execution_count": 50,
   "id": "67bb3d46",
   "metadata": {},
   "outputs": [
    {
     "name": "stdout",
     "output_type": "stream",
     "text": [
      "Содержимое файла res.txt:\n",
      "о 0.110448\n",
      "е 0.079459\n",
      "а 0.078072\n",
      "и 0.064949\n",
      "н 0.060474\n",
      "т 0.056071\n",
      "с 0.051103\n",
      "л 0.048364\n",
      "в 0.043195\n",
      "р 0.042134\n",
      "к 0.031399\n",
      "д 0.028553\n",
      "м 0.027486\n",
      "у 0.026158\n",
      "п 0.023346\n",
      "я 0.020878\n",
      "ь 0.018869\n",
      "ы 0.01876\n",
      "г 0.018638\n",
      "з 0.016416\n",
      "б 0.015841\n",
      "ч 0.013648\n",
      "й 0.010915\n",
      "ж 0.010225\n",
      "ш 0.008897\n",
      "х 0.008236\n",
      "ю 0.00594\n",
      "e 0.005139\n",
      "ц 0.003468\n",
      "щ 0.002864\n",
      "э 0.002618\n",
      "Н 0.002473\n",
      "s 0.00225\n",
      "a 0.002163\n",
      "П 0.002159\n",
      "n 0.002055\n",
      "i 0.001985\n",
      "r 0.001954\n",
      "ф 0.001843\n",
      "u 0.001827\n",
      "o 0.001817\n",
      "t 0.001721\n",
      "В 0.00163\n",
      "О 0.001524\n",
      "А 0.001466\n",
      "l 0.001458\n",
      "К 0.001366\n",
      "М 0.001232\n",
      "Д 0.00115\n",
      "m 0.001081\n",
      "Б 0.001006\n",
      "d 0.00094\n",
      "c 0.000924\n",
      "С 0.000905\n",
      "И 0.000807\n",
      "Р 0.000774\n",
      "Т 0.000711\n",
      "p 0.000711\n",
      "v 0.00054\n",
      "Я 0.000445\n",
      "Г 0.000435\n",
      "ъ 0.000415\n",
      "h 0.000374\n",
      "Ч 0.000359\n",
      "Э 0.000353\n",
      "Е 0.00035\n",
      "f 0.000296\n",
      "q 0.000293\n",
      "I 0.000281\n",
      "g 0.000255\n",
      "b 0.000248\n",
      "Л 0.000225\n",
      "У 0.000206\n",
      "З 0.000186\n",
      "j 0.000159\n",
      "z 0.000153\n",
      "V 0.000152\n",
      "X 0.000143\n",
      "Ф 0.000142\n",
      "M 0.000129\n",
      "Х 9.9e-05\n",
      "Ж 9.9e-05\n",
      "B 9e-05\n",
      "A 8.9e-05\n",
      "Ш 8.7e-05\n",
      "x 8.7e-05\n",
      "L 7.7e-05\n",
      "C 6.5e-05\n",
      "y 6.2e-05\n",
      "E 6.2e-05\n",
      "N 6e-05\n",
      "J 5.9e-05\n",
      "S 5.2e-05\n",
      "P 5.1e-05\n",
      "D 4.5e-05\n",
      "k 3e-05\n",
      "R 2.9e-05\n",
      "O 2.7e-05\n",
      "Q 2.4e-05\n",
      "Ц 2.4e-05\n",
      "F 2.2e-05\n",
      "w 2e-05\n",
      "T 1.9e-05\n",
      "G 1.4e-05\n",
      "K 1.3e-05\n",
      "U 1.3e-05\n",
      "H 1.1e-05\n",
      "Ь 9e-06\n",
      "Щ 7e-06\n",
      "Ю 7e-06\n",
      "W 7e-06\n",
      "Z 3e-06\n",
      "Й 1e-06\n",
      "\n"
     ]
    }
   ],
   "source": [
    "import zipfile\n",
    "import os\n",
    "\n",
    "alphabet = []\n",
    "for i in range(65,91):\n",
    "    alphabet.append(chr(i))\n",
    "for i in range(97,123):\n",
    "    alphabet.append(chr(i))\n",
    "for i in range(1072, 1104):\n",
    "    alphabet.append(chr(i))\n",
    "for i in range(1040, 1072):\n",
    "    alphabet.append(chr(i))\n",
    "    \n",
    "    \n",
    "def nom(a):\n",
    "    return a[1] \n",
    "\n",
    "    \n",
    "def frequency(txt):  \n",
    "    dictt = dict()\n",
    "    for i in range(len(txt)):\n",
    "        if (txt[i] in alphabet) and (txt[i] not in dictt.keys()):\n",
    "            dictt[txt[i]] = txt.count(txt[i])\n",
    "    alllit = sum(dictt.values())\n",
    "    for key, val in dictt.items():\n",
    "        dictt[key] = round(val/alllit, 6)\n",
    "    res = list(dictt.items())\n",
    "    res.sort(key=nom, reverse=True)\n",
    "    f = open('res.txt', 'w')\n",
    "    for k in range(len(res)):\n",
    "        f.write(f'{res[k][0]} {res[k][1]}\\n')\n",
    "    f.close()\n",
    "    f = open('res.txt', 'r')\n",
    "    print('Содержимое файла res.txt:', f.read(), sep='\\n')\n",
    "    f.close()\n",
    "\n",
    "    \n",
    "z = zipfile.ZipFile('voyna-i-mir.zip', 'r')\n",
    "with zipfile.ZipFile('voyna-i-mir.zip') as myzip:\n",
    "     for name in myzip.namelist():\n",
    "            with myzip.open(name) as myfile:\n",
    "                text = myfile.read().decode('utf-8')\n",
    "frequency(text)\n"
   ]
  }
 ],
 "metadata": {
  "kernelspec": {
   "display_name": "Python 3 (ipykernel)",
   "language": "python",
   "name": "python3"
  },
  "language_info": {
   "codemirror_mode": {
    "name": "ipython",
    "version": 3
   },
   "file_extension": ".py",
   "mimetype": "text/x-python",
   "name": "python",
   "nbconvert_exporter": "python",
   "pygments_lexer": "ipython3",
   "version": "3.9.7"
  }
 },
 "nbformat": 4,
 "nbformat_minor": 5
}
