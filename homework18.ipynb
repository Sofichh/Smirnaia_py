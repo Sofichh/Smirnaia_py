{
 "cells": [
  {
   "cell_type": "markdown",
   "id": "d634ae3d",
   "metadata": {},
   "source": [
    "## number 1"
   ]
  },
  {
   "cell_type": "code",
   "execution_count": 63,
   "id": "f1a17238",
   "metadata": {},
   "outputs": [
    {
     "name": "stdout",
     "output_type": "stream",
     "text": [
      "Содержимое с именами:\n",
      "Yan\n",
      "Katrin\n",
      "Da\n",
      "Kolya\n",
      "E\n",
      "Patric\n",
      "Daniil\n",
      "Ошибка в 3 строке\n",
      "Ошибка в 5 строке\n",
      "26\n"
     ]
    }
   ],
   "source": [
    "import os\n",
    "res = 0\n",
    "f = open('people.txt', 'r') \n",
    "lst = f.readlines()\n",
    "n = len(lst)\n",
    "f.close()\n",
    "print('Содержимое с именами:')\n",
    "for i in range(n):\n",
    "    print(lst[i][:-1:])\n",
    "f = open('errors.log', 'w')\n",
    "with open('people.txt', 'r') as file:\n",
    "    for i in range(n):\n",
    "        try:\n",
    "            line = file.readline()\n",
    "            assert len(line) >= 4\n",
    "            res += len(line) - 1 \n",
    "        except:\n",
    "            print(f'Ошибка в {i+1} строке')\n",
    "            f.write(f'Ошибка в {i+1} строке\\n')\n",
    "f.close()\n",
    "print(res)\n"
   ]
  },
  {
   "cell_type": "markdown",
   "id": "7602fc7c",
   "metadata": {},
   "source": [
    "## number 2"
   ]
  },
  {
   "cell_type": "code",
   "execution_count": 40,
   "id": "babdfc17",
   "metadata": {},
   "outputs": [],
   "source": [
    "import random\n",
    "\n",
    "def f(x, y):\n",
    "    x += random.randint(0, 10)\n",
    "    y += random.randint(0, 5)\n",
    "    return x / y\n",
    "\n",
    "\n",
    "def f2(x, y):\n",
    "    x -= random.randint(0, 10)\n",
    "    y -= random.randint(0, 5)\n",
    "    return y / x\n",
    "\n",
    "\n",
    "file = open('coordinates.txt', 'r')\n",
    "file_2 = open('result.txt', 'w')\n",
    "for line in file:\n",
    "    nums_list = line.split()\n",
    "    try:\n",
    "        res1 = f(int(nums_list[0]), int(nums_list[1]))\n",
    "    except Exception:\n",
    "        print(\"Что-то пошло не так с первой функцией\")\n",
    "    else:\n",
    "        try:\n",
    "            res2 = f2(int(nums_list[0]), int(nums_list[1]))\n",
    "        except Exception:\n",
    "            print(\"Что-то пошло не так со второй функцией\")   \n",
    "        else:\n",
    "            number = random.randint(0, 100)\n",
    "            my_list = sorted([res1, res2, number])\n",
    "            file_2.write(f'{my_list[0]} {my_list[1]} {my_list[2]}\\n')\n",
    "                \n",
    "file.close()\n",
    "file_2.close()\n",
    "\n"
   ]
  },
  {
   "cell_type": "markdown",
   "id": "03fa5f53",
   "metadata": {},
   "source": [
    "## number 3"
   ]
  },
  {
   "cell_type": "code",
   "execution_count": 61,
   "id": "febe28c3",
   "metadata": {},
   "outputs": [
    {
     "name": "stdout",
     "output_type": "stream",
     "text": [
      "Введите число: 56\n",
      "Введите число: 45\n",
      "Введите число: 9\n",
      "Введите число: 7\n",
      "Введите число: 2\n",
      "Введите число: 5\n",
      "Введите число: 4\n"
     ]
    },
    {
     "ename": "Exception",
     "evalue": "OverflowError",
     "output_type": "error",
     "traceback": [
      "\u001b[1;31m---------------------------------------------------------------------------\u001b[0m",
      "\u001b[1;31mException\u001b[0m                                 Traceback (most recent call last)",
      "\u001b[1;32m~\\AppData\\Local\\Temp/ipykernel_8664/1976508042.py\u001b[0m in \u001b[0;36m<module>\u001b[1;34m\u001b[0m\n\u001b[0;32m      8\u001b[0m     \u001b[0msum\u001b[0m \u001b[1;33m+=\u001b[0m \u001b[0mnum\u001b[0m\u001b[1;33m\u001b[0m\u001b[1;33m\u001b[0m\u001b[0m\n\u001b[0;32m      9\u001b[0m     \u001b[1;32mif\u001b[0m \u001b[1;36m5\u001b[0m \u001b[1;33m==\u001b[0m \u001b[0mrandom\u001b[0m\u001b[1;33m.\u001b[0m\u001b[0mrandint\u001b[0m\u001b[1;33m(\u001b[0m\u001b[1;36m1\u001b[0m\u001b[1;33m,\u001b[0m\u001b[1;36m13\u001b[0m\u001b[1;33m)\u001b[0m\u001b[1;33m:\u001b[0m\u001b[1;33m\u001b[0m\u001b[1;33m\u001b[0m\u001b[0m\n\u001b[1;32m---> 10\u001b[1;33m         \u001b[1;32mraise\u001b[0m \u001b[0mException\u001b[0m\u001b[1;33m(\u001b[0m\u001b[0mrandom\u001b[0m\u001b[1;33m.\u001b[0m\u001b[0mchoice\u001b[0m\u001b[1;33m(\u001b[0m\u001b[0merrors\u001b[0m\u001b[1;33m)\u001b[0m\u001b[1;33m)\u001b[0m\u001b[1;33m\u001b[0m\u001b[1;33m\u001b[0m\u001b[0m\n\u001b[0m\u001b[0;32m     11\u001b[0m     \u001b[0mf\u001b[0m\u001b[1;33m.\u001b[0m\u001b[0mwrite\u001b[0m\u001b[1;33m(\u001b[0m\u001b[1;34mf'{num}\\n'\u001b[0m\u001b[1;33m)\u001b[0m\u001b[1;33m\u001b[0m\u001b[1;33m\u001b[0m\u001b[0m\n\u001b[0;32m     12\u001b[0m \u001b[0mf\u001b[0m\u001b[1;33m.\u001b[0m\u001b[0mclose\u001b[0m\u001b[1;33m(\u001b[0m\u001b[1;33m)\u001b[0m\u001b[1;33m\u001b[0m\u001b[1;33m\u001b[0m\u001b[0m\n",
      "\u001b[1;31mException\u001b[0m: OverflowError"
     ]
    }
   ],
   "source": [
    "import random\n",
    "errors = ['ZeroDivisionError', 'TypeError', 'SystemExit', 'KeyboardInterrupt', 'GeneratorExit', 'StopIteration',\n",
    "         'FloatingPointError', 'OverflowError', 'BufferError', 'MemoryError', 'FileExistsError', 'TabError']\n",
    "sum = 0\n",
    "f = open('num.txt', 'a')\n",
    "while sum < 777:\n",
    "    num = int(input('Введите число: '))\n",
    "    sum += num \n",
    "    if 5 == random.randint(1,13): \n",
    "        raise Exception(random.choice(errors))\n",
    "    f.write(f'{num}\\n')\n",
    "f.close()"
   ]
  },
  {
   "cell_type": "markdown",
   "id": "01dc692f",
   "metadata": {},
   "source": [
    "## number 4"
   ]
  },
  {
   "cell_type": "code",
   "execution_count": 100,
   "id": "a73f8a43",
   "metadata": {},
   "outputs": [],
   "source": [
    "def exceptt(txt):\n",
    "    txt = txt.split()\n",
    "    if len(txt) != 3:\n",
    "        raise ValueError\n",
    "    if not txt[0].isalpha():\n",
    "        raise NameError\n",
    "    if ('@' not in txt[1]) or ('.' not in txt[1]):\n",
    "        raise SyntaxError\n",
    "    if (int(txt[2]) < 10) or (int(txt[2]) > 99):\n",
    "        raise ValueError\n",
    "\n",
    "        \n",
    "f = open('registrations.txt','r', encoding = 'utf-8')\n",
    "fright = open('registrations_good.log', 'a')\n",
    "fwrong = open('registrations_bad.log', 'a') \n",
    "for line in f:\n",
    "    try:\n",
    "        exceptt(line)\n",
    "    except:\n",
    "        fwrong.write(line)\n",
    "    else:\n",
    "        fright.write(line)\n",
    "f.close()\n",
    "fright.close()\n",
    "fwrong.close()\n",
    "\n"
   ]
  },
  {
   "cell_type": "markdown",
   "id": "82fa0d4c",
   "metadata": {},
   "source": [
    "## number 5"
   ]
  },
  {
   "cell_type": "code",
   "execution_count": 174,
   "id": "ab0e63b3",
   "metadata": {},
   "outputs": [
    {
     "name": "stdout",
     "output_type": "stream",
     "text": [
      "В выражении 100 // 0  содержится деление на ноль\n",
      "В выражении 2 % 0  содержится деление на ноль\n",
      "В выражении 3 */ 2  содержится недоступная операция\n",
      "В выражении t5 / 89  содержатся буквы\n",
      "Oтвет: 6.0\n"
     ]
    }
   ],
   "source": [
    "def operation(n1, n2, op):\n",
    "    if op == '*':\n",
    "        return n1 * n2\n",
    "    if op == '/':\n",
    "        return n1 / n2\n",
    "    if op == '//':\n",
    "        return n1 // n2\n",
    "    if op == '%':\n",
    "        return n1 % n2\n",
    "    if op == '+':\n",
    "        return n1 + n2\n",
    "    if op == '-':\n",
    "        return n1 - n2\n",
    "    if op == '**':\n",
    "        return n1 ** n2\n",
    "\n",
    "    \n",
    "f = open('calc.txt', 'r')\n",
    "summ = 0\n",
    "for line in f:\n",
    "    num1, oper, num2 = line.split()\n",
    "    try:\n",
    "        if (int(num2) == 0) and (oper in ['/','%','//']):\n",
    "            raise ZeroDivisionError  \n",
    "        if oper not in ['+','/','%','//', '-','*','**']:\n",
    "            raise Exception('Недоступная операция')\n",
    "        if (any(map(str.isalpha, num2)) or any(map(str.isalpha, num1))):\n",
    "            raise TypeError   \n",
    "    except TypeError:\n",
    "        print('В выражении', line[:-1:],' содержатся буквы')\n",
    "    except ZeroDivisionError:\n",
    "        print('В выражении', line[:-1:],' содержится деление на ноль')\n",
    "    except:\n",
    "        print('В выражении', line[:-1:],' содержится недоступная операция' )\n",
    "    \n",
    "    else:\n",
    "        summ += operation(int(num1), int(num2), oper)\n",
    "            \n",
    "print('Oтвет:', summ)"
   ]
  },
  {
   "cell_type": "markdown",
   "id": "b775067f",
   "metadata": {},
   "source": [
    "## number 6 "
   ]
  },
  {
   "cell_type": "code",
   "execution_count": 126,
   "id": "05c9ae22",
   "metadata": {},
   "outputs": [
    {
     "name": "stdout",
     "output_type": "stream",
     "text": [
      "Введите имя: sonic\n",
      "Посмотреть текущий текст чата. (1)\n",
      "Отправить сообщение. (2)\n",
      "Введите команду: 1\n",
      "Пока переписки нет\n",
      "Введите команду: 2\n",
      "Введите сообщение: привет, надо встретиться\n",
      "Введите команду: 1\n",
      "sonic --> привет, надо встретиться\n",
      "\n"
     ]
    },
    {
     "ename": "KeyboardInterrupt",
     "evalue": "Interrupted by user",
     "output_type": "error",
     "traceback": [
      "\u001b[1;31m---------------------------------------------------------------------------\u001b[0m",
      "\u001b[1;31mKeyboardInterrupt\u001b[0m                         Traceback (most recent call last)",
      "\u001b[1;32m~\\AppData\\Local\\Temp/ipykernel_8664/2808098158.py\u001b[0m in \u001b[0;36m<module>\u001b[1;34m\u001b[0m\n\u001b[0;32m     17\u001b[0m     \u001b[1;32melse\u001b[0m\u001b[1;33m:\u001b[0m\u001b[1;33m\u001b[0m\u001b[1;33m\u001b[0m\u001b[0m\n\u001b[0;32m     18\u001b[0m         \u001b[0mprint\u001b[0m\u001b[1;33m(\u001b[0m\u001b[1;34m'Нет такого дествия'\u001b[0m\u001b[1;33m)\u001b[0m\u001b[1;33m\u001b[0m\u001b[1;33m\u001b[0m\u001b[0m\n\u001b[1;32m---> 19\u001b[1;33m     \u001b[0mcom\u001b[0m \u001b[1;33m=\u001b[0m \u001b[0minput\u001b[0m\u001b[1;33m(\u001b[0m\u001b[1;34m'Введите команду: '\u001b[0m\u001b[1;33m)\u001b[0m\u001b[1;33m\u001b[0m\u001b[1;33m\u001b[0m\u001b[0m\n\u001b[0m",
      "\u001b[1;32mC:\\ProgramData\\Anaconda3\\lib\\site-packages\\ipykernel\\kernelbase.py\u001b[0m in \u001b[0;36mraw_input\u001b[1;34m(self, prompt)\u001b[0m\n\u001b[0;32m   1004\u001b[0m                 \u001b[1;34m\"raw_input was called, but this frontend does not support input requests.\"\u001b[0m\u001b[1;33m\u001b[0m\u001b[1;33m\u001b[0m\u001b[0m\n\u001b[0;32m   1005\u001b[0m             )\n\u001b[1;32m-> 1006\u001b[1;33m         return self._input_request(\n\u001b[0m\u001b[0;32m   1007\u001b[0m             \u001b[0mstr\u001b[0m\u001b[1;33m(\u001b[0m\u001b[0mprompt\u001b[0m\u001b[1;33m)\u001b[0m\u001b[1;33m,\u001b[0m\u001b[1;33m\u001b[0m\u001b[1;33m\u001b[0m\u001b[0m\n\u001b[0;32m   1008\u001b[0m             \u001b[0mself\u001b[0m\u001b[1;33m.\u001b[0m\u001b[0m_parent_ident\u001b[0m\u001b[1;33m[\u001b[0m\u001b[1;34m\"shell\"\u001b[0m\u001b[1;33m]\u001b[0m\u001b[1;33m,\u001b[0m\u001b[1;33m\u001b[0m\u001b[1;33m\u001b[0m\u001b[0m\n",
      "\u001b[1;32mC:\\ProgramData\\Anaconda3\\lib\\site-packages\\ipykernel\\kernelbase.py\u001b[0m in \u001b[0;36m_input_request\u001b[1;34m(self, prompt, ident, parent, password)\u001b[0m\n\u001b[0;32m   1049\u001b[0m             \u001b[1;32mexcept\u001b[0m \u001b[0mKeyboardInterrupt\u001b[0m\u001b[1;33m:\u001b[0m\u001b[1;33m\u001b[0m\u001b[1;33m\u001b[0m\u001b[0m\n\u001b[0;32m   1050\u001b[0m                 \u001b[1;31m# re-raise KeyboardInterrupt, to truncate traceback\u001b[0m\u001b[1;33m\u001b[0m\u001b[1;33m\u001b[0m\u001b[0m\n\u001b[1;32m-> 1051\u001b[1;33m                 \u001b[1;32mraise\u001b[0m \u001b[0mKeyboardInterrupt\u001b[0m\u001b[1;33m(\u001b[0m\u001b[1;34m\"Interrupted by user\"\u001b[0m\u001b[1;33m)\u001b[0m \u001b[1;32mfrom\u001b[0m \u001b[1;32mNone\u001b[0m\u001b[1;33m\u001b[0m\u001b[1;33m\u001b[0m\u001b[0m\n\u001b[0m\u001b[0;32m   1052\u001b[0m             \u001b[1;32mexcept\u001b[0m \u001b[0mException\u001b[0m\u001b[1;33m:\u001b[0m\u001b[1;33m\u001b[0m\u001b[1;33m\u001b[0m\u001b[0m\n\u001b[0;32m   1053\u001b[0m                 \u001b[0mself\u001b[0m\u001b[1;33m.\u001b[0m\u001b[0mlog\u001b[0m\u001b[1;33m.\u001b[0m\u001b[0mwarning\u001b[0m\u001b[1;33m(\u001b[0m\u001b[1;34m\"Invalid Message:\"\u001b[0m\u001b[1;33m,\u001b[0m \u001b[0mexc_info\u001b[0m\u001b[1;33m=\u001b[0m\u001b[1;32mTrue\u001b[0m\u001b[1;33m)\u001b[0m\u001b[1;33m\u001b[0m\u001b[1;33m\u001b[0m\u001b[0m\n",
      "\u001b[1;31mKeyboardInterrupt\u001b[0m: Interrupted by user"
     ]
    }
   ],
   "source": [
    "name = input('Введите имя: ')\n",
    "print('Посмотреть текущий текст чата. (1)')\n",
    "print('Отправить сообщение. (2)')\n",
    "com = input('Введите команду: ')\n",
    "while True:\n",
    "    if com == '1':\n",
    "        try:\n",
    "            with open('chat.txt') as f:\n",
    "                for mes in f:\n",
    "                    print(mes)\n",
    "        except FileNotFoundError:\n",
    "            print('Пока переписки нет')\n",
    "    elif com == '2':\n",
    "        mes = input('Введите сообщение: ')\n",
    "        with open('chat.txt', 'a') as f:\n",
    "            f.write(f'{name} --> {mes}\\n')\n",
    "    else:\n",
    "        print('Нет такого дествия')\n",
    "    com = input('Введите команду: ')"
   ]
  },
  {
   "cell_type": "markdown",
   "id": "746b1c0d",
   "metadata": {},
   "source": [
    "## number 7"
   ]
  },
  {
   "cell_type": "code",
   "execution_count": 13,
   "id": "46a6d9f8",
   "metadata": {},
   "outputs": [
    {
     "name": "stdout",
     "output_type": "stream",
     "text": [
      "Содержимое файла calc.txt\n",
      "100 + 34\n",
      "10 +* 3\n",
      "20 -* 2\n",
      "23 / 4\n",
      "\n",
      "Обнаружена ошибка в строке: 10 +* 3 Хотите исправить? нет\n",
      "Обнаружена ошибка в строке: 20 -* 2 Хотите исправить? да\n",
      "Введите исправленную строку: 20 - 2\n",
      "Oтвет: 157.75\n"
     ]
    }
   ],
   "source": [
    "def operation(n1, n2, op):\n",
    "    if op == '*':\n",
    "        return n1 * n2\n",
    "    if op == '/':\n",
    "        return n1 / n2\n",
    "    if op == '//':\n",
    "        return n1 // n2\n",
    "    if op == '%':\n",
    "        return n1 % n2\n",
    "    if op == '+':\n",
    "        return n1 + n2\n",
    "    if op == '-':\n",
    "        return n1 - n2\n",
    "    if op == '**':\n",
    "        return n1 ** n2\n",
    "\n",
    "    \n",
    "f = open('calc.txt', 'r')\n",
    "text = f.read()\n",
    "print('Содержимое файла calc.txt', text, sep='\\n')\n",
    "f.close()    \n",
    "f = open('calc.txt', 'r+')\n",
    "summ = 0\n",
    "for line in f:\n",
    "    num1, oper, num2 = line.split()\n",
    "    try:\n",
    "        if (int(num2) == 0) and (oper in ['/','%','//']):\n",
    "            raise ZeroDivisionError  \n",
    "        if oper not in ['+','/','%','//', '-','*','**']:\n",
    "            raise Exception('Недоступная операция')\n",
    "        if (any(map(str.isalpha, num2)) or any(map(str.isalpha, num1))):\n",
    "            raise TypeError   \n",
    "    except:\n",
    "        print('Обнаружена ошибка в строке:', line[:-1:], end=' ')\n",
    "        answer = input('Хотите исправить? ')\n",
    "        if answer.lower() == 'да':\n",
    "            strr = input('Введите исправленную строку: ')\n",
    "            num1, oper, num2 = strr.split()\n",
    "            summ += operation(int(num1), int(num2), oper)\n",
    "    else:\n",
    "        summ += operation(int(num1), int(num2), oper)\n",
    "            \n",
    "print('Oтвет:', summ)"
   ]
  }
 ],
 "metadata": {
  "kernelspec": {
   "display_name": "Python 3 (ipykernel)",
   "language": "python",
   "name": "python3"
  },
  "language_info": {
   "codemirror_mode": {
    "name": "ipython",
    "version": 3
   },
   "file_extension": ".py",
   "mimetype": "text/x-python",
   "name": "python",
   "nbconvert_exporter": "python",
   "pygments_lexer": "ipython3",
   "version": "3.9.7"
  }
 },
 "nbformat": 4,
 "nbformat_minor": 5
}
