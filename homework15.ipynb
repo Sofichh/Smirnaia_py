{
 "cells": [
  {
   "cell_type": "markdown",
   "id": "0494d486",
   "metadata": {},
   "source": [
    "## number 1"
   ]
  },
  {
   "cell_type": "code",
   "execution_count": 1,
   "id": "95334cc0",
   "metadata": {},
   "outputs": [
    {
     "name": "stdout",
     "output_type": "stream",
     "text": [
      "[(1, 23), (2, 24), (3, 22)]\n",
      "['biology', 'swimming', 'math', 'computer games', 'running', 'languages', 'health food'] 20\n"
     ]
    }
   ],
   "source": [
    "students = {\n",
    "    1: {\n",
    "        'name': 'Bob',\n",
    "        'surname': 'Vazovski',\n",
    "        'age': 23,\n",
    "        'interests': ['biology', 'swimming']\n",
    "    },\n",
    "    2: {\n",
    "        'name': 'Rob',\n",
    "        'surname': 'Stepanov',\n",
    "        'age': 24,\n",
    "        'interests': ['math', 'computer games', 'running']\n",
    "    },\n",
    "    3: {\n",
    "        'name': 'Alexander',\n",
    "        'surname': 'Krug',\n",
    "        'age': 22,\n",
    "        'interests': ['languages', 'health food']\n",
    "    }\n",
    "}\n",
    "\n",
    "\n",
    "def f(dict):\n",
    "    lst = [dict[i]['interests'][k] for i in dict for k in range(len(dict[i]['interests']))]\n",
    "    cnt = 0\n",
    "    for i in dict:\n",
    "        cnt += len(dict[i]['surname'])\n",
    "    return lst, cnt\n",
    "\n",
    "\n",
    "my_lst = f(students)[0]\n",
    "l = f(students)[1]\n",
    "print(list(zip(students.keys(),[students[i]['age'] for i in students])))\n",
    "print(my_lst, l)\n"
   ]
  },
  {
   "cell_type": "markdown",
   "id": "1a9777ce",
   "metadata": {},
   "source": [
    "## number 2"
   ]
  },
  {
   "cell_type": "code",
   "execution_count": null,
   "id": "d65bd388",
   "metadata": {},
   "outputs": [],
   "source": [
    "import math\n",
    "\n",
    "\n",
    "def is_prime(number):\n",
    "    div = 0\n",
    "    for i in range(2, int(math.sqrt(number))+1):\n",
    "        if number % i == 0:\n",
    "            div += 1\n",
    "    if div != 0:\n",
    "        return 0\n",
    "    else:\n",
    "        return 1\n",
    "        \n",
    "        \n",
    "def elem(iter):\n",
    "    return [iter[k] for k in range(2, len(iter)) if is_prime(k)]\n",
    "\n",
    "\n",
    "line = input('Введите строку: ')\n",
    "print(elem(line))\n"
   ]
  },
  {
   "cell_type": "markdown",
   "id": "e1f92bfa",
   "metadata": {},
   "source": [
    "## number 3"
   ]
  },
  {
   "cell_type": "code",
   "execution_count": 15,
   "id": "e1029683",
   "metadata": {},
   "outputs": [
    {
     "name": "stdout",
     "output_type": "stream",
     "text": [
      "Введите элементы кортежа строкой: girghklrjnjlk\n",
      "Введите случаный элемент: r\n",
      "Новый кортеж: ('r', 'g', 'h', 'k', 'l', 'r')\n"
     ]
    }
   ],
   "source": [
    "def newtuple(tup, el):\n",
    "    if el not in tup:\n",
    "        return ()\n",
    "    elif tup.count(el) == 1:\n",
    "        return (tup[i] for i in range(tup.index(el), len(tup)))\n",
    "    else:\n",
    "        return(tup[i] for i in range(tup.index(el), tup.index(el,tup.index(el)+1)+1))\n",
    "    \n",
    "    \n",
    "tuple1 = tuple(input('Введите элементы кортежа строкой: '))\n",
    "elem = input('Введите случаный элемент: ')\n",
    "tuple2 = tuple(newtuple(tuple1, elem))\n",
    "print('Новый кортеж:', tuple2)\n"
   ]
  },
  {
   "cell_type": "markdown",
   "id": "5a1ea3db",
   "metadata": {},
   "source": [
    "## number 4"
   ]
  },
  {
   "cell_type": "code",
   "execution_count": 26,
   "id": "9697ca66",
   "metadata": {},
   "outputs": [
    {
     "name": "stdout",
     "output_type": "stream",
     "text": [
      "[('Ivan', 'Volkin', 10, 5, 13), ('Bob', 'Robbin', 7, 5, 14), ('Rob', 'Bobbin', 12, 8, 2)]\n"
     ]
    }
   ],
   "source": [
    "players = {\n",
    "    (\"Ivan\", \"Volkin\"): (10, 5, 13),\n",
    "    (\"Bob\", \"Robbin\"): (7, 5, 14),\n",
    "    (\"Rob\", \"Bobbin\"): (12, 8, 2)\n",
    "}\n",
    "new = [key + value for key, value in players.items()]\n",
    "print(new)\n"
   ]
  },
  {
   "cell_type": "markdown",
   "id": "af51d7d7",
   "metadata": {},
   "source": [
    "## number 5"
   ]
  },
  {
   "cell_type": "code",
   "execution_count": 13,
   "id": "75fd50c2",
   "metadata": {},
   "outputs": [
    {
     "name": "stdout",
     "output_type": "stream",
     "text": [
      "Введите фамилию: Смирнова\n",
      "Смирнов Игорь 20\n"
     ]
    }
   ],
   "source": [
    "data = {\n",
    "    'Сидоров Никита': 35,\n",
    "    'Сидорова Алина': 34,\n",
    "    'Сидоров Павел': 10,\n",
    "    'Смирная София': 20,\n",
    "    'Смирный Марк': 20,\n",
    "    'Смирнов Игорь': 20\n",
    "}\n",
    "\n",
    "\n",
    "def parsing_surname(name):\n",
    "\n",
    "    if name[-1:] == 'а':\n",
    "        return name[:-1]\n",
    "    if name[-2:] in ('ий', 'ой', 'ая', 'ый'):\n",
    "        return name[:-2]\n",
    "    return name\n",
    "\n",
    "\n",
    "string = input('Введите фамилию: ')\n",
    "for k in data.keys():\n",
    "    if  parsing_surname(string) == parsing_surname(k.split()[0]):\n",
    "        print(k, data[k])\n"
   ]
  },
  {
   "cell_type": "markdown",
   "id": "da167d53",
   "metadata": {},
   "source": [
    "## number 6"
   ]
  },
  {
   "cell_type": "code",
   "execution_count": 87,
   "id": "9d49fe38",
   "metadata": {},
   "outputs": [
    {
     "name": "stdout",
     "output_type": "stream",
     "text": [
      "Оригинальный список: [86, 62, 92, 28, 27, 87, 40, 66, 33, 54]\n",
      "Новый список: [(86, 62), (92, 28), (27, 87), (40, 66), (33, 54)]\n"
     ]
    }
   ],
   "source": [
    "from random import randint\n",
    "lst = [randint(0, 100) for i in range(10)]\n",
    "lsttup = list(zip(lst[::2], lst[1::2]))\n",
    "print('Оригинальный список:', lst)\n",
    "print('Новый список:', lsttup)"
   ]
  },
  {
   "cell_type": "markdown",
   "id": "a724f27d",
   "metadata": {},
   "source": [
    "## number 7"
   ]
  },
  {
   "cell_type": "code",
   "execution_count": 1,
   "id": "493b20c8",
   "metadata": {},
   "outputs": [
    {
     "name": "stdout",
     "output_type": "stream",
     "text": [
      "[-6, 8, 89, 90]\n"
     ]
    }
   ],
   "source": [
    "tuple1 = (90, -6, 8, 89)\n",
    "if all(isinstance(k, int) for k in tuple1):  \n",
    "    tuple1 = sorted(tuple1)\n",
    "print(tuple1)    "
   ]
  },
  {
   "cell_type": "markdown",
   "id": "f9f542b7",
   "metadata": {},
   "source": [
    "## number 8"
   ]
  },
  {
   "cell_type": "code",
   "execution_count": 24,
   "id": "5289b0f9",
   "metadata": {},
   "outputs": [
    {
     "ename": "KeyboardInterrupt",
     "evalue": "Interrupted by user",
     "output_type": "error",
     "traceback": [
      "\u001b[1;31m---------------------------------------------------------------------------\u001b[0m",
      "\u001b[1;31mKeyboardInterrupt\u001b[0m                         Traceback (most recent call last)",
      "\u001b[1;32m~\\AppData\\Local\\Temp/ipykernel_3532/2966454782.py\u001b[0m in \u001b[0;36m<module>\u001b[1;34m\u001b[0m\n\u001b[0;32m      1\u001b[0m \u001b[0mdict\u001b[0m \u001b[1;33m=\u001b[0m \u001b[1;33m{\u001b[0m\u001b[1;33m}\u001b[0m\u001b[1;33m\u001b[0m\u001b[1;33m\u001b[0m\u001b[0m\n\u001b[0;32m      2\u001b[0m \u001b[1;32mwhile\u001b[0m \u001b[1;32mTrue\u001b[0m\u001b[1;33m:\u001b[0m\u001b[1;33m\u001b[0m\u001b[1;33m\u001b[0m\u001b[0m\n\u001b[1;32m----> 3\u001b[1;33m     \u001b[0mcommand\u001b[0m \u001b[1;33m=\u001b[0m \u001b[0minput\u001b[0m\u001b[1;33m(\u001b[0m\u001b[1;34m'Введите команду: '\u001b[0m\u001b[1;33m)\u001b[0m\u001b[1;33m\u001b[0m\u001b[1;33m\u001b[0m\u001b[0m\n\u001b[0m\u001b[0;32m      4\u001b[0m     \u001b[1;32mif\u001b[0m \u001b[0mcommand\u001b[0m \u001b[1;33m==\u001b[0m \u001b[1;34m'Добавить контакт'\u001b[0m\u001b[1;33m:\u001b[0m\u001b[1;33m\u001b[0m\u001b[1;33m\u001b[0m\u001b[0m\n\u001b[0;32m      5\u001b[0m         \u001b[0mname\u001b[0m \u001b[1;33m=\u001b[0m \u001b[0minput\u001b[0m\u001b[1;33m(\u001b[0m\u001b[1;34m'Введите фамилию и имя: '\u001b[0m\u001b[1;33m)\u001b[0m\u001b[1;33m\u001b[0m\u001b[1;33m\u001b[0m\u001b[0m\n",
      "\u001b[1;32mC:\\ProgramData\\Anaconda3\\lib\\site-packages\\ipykernel\\kernelbase.py\u001b[0m in \u001b[0;36mraw_input\u001b[1;34m(self, prompt)\u001b[0m\n\u001b[0;32m   1004\u001b[0m                 \u001b[1;34m\"raw_input was called, but this frontend does not support input requests.\"\u001b[0m\u001b[1;33m\u001b[0m\u001b[1;33m\u001b[0m\u001b[0m\n\u001b[0;32m   1005\u001b[0m             )\n\u001b[1;32m-> 1006\u001b[1;33m         return self._input_request(\n\u001b[0m\u001b[0;32m   1007\u001b[0m             \u001b[0mstr\u001b[0m\u001b[1;33m(\u001b[0m\u001b[0mprompt\u001b[0m\u001b[1;33m)\u001b[0m\u001b[1;33m,\u001b[0m\u001b[1;33m\u001b[0m\u001b[1;33m\u001b[0m\u001b[0m\n\u001b[0;32m   1008\u001b[0m             \u001b[0mself\u001b[0m\u001b[1;33m.\u001b[0m\u001b[0m_parent_ident\u001b[0m\u001b[1;33m[\u001b[0m\u001b[1;34m\"shell\"\u001b[0m\u001b[1;33m]\u001b[0m\u001b[1;33m,\u001b[0m\u001b[1;33m\u001b[0m\u001b[1;33m\u001b[0m\u001b[0m\n",
      "\u001b[1;32mC:\\ProgramData\\Anaconda3\\lib\\site-packages\\ipykernel\\kernelbase.py\u001b[0m in \u001b[0;36m_input_request\u001b[1;34m(self, prompt, ident, parent, password)\u001b[0m\n\u001b[0;32m   1049\u001b[0m             \u001b[1;32mexcept\u001b[0m \u001b[0mKeyboardInterrupt\u001b[0m\u001b[1;33m:\u001b[0m\u001b[1;33m\u001b[0m\u001b[1;33m\u001b[0m\u001b[0m\n\u001b[0;32m   1050\u001b[0m                 \u001b[1;31m# re-raise KeyboardInterrupt, to truncate traceback\u001b[0m\u001b[1;33m\u001b[0m\u001b[1;33m\u001b[0m\u001b[0m\n\u001b[1;32m-> 1051\u001b[1;33m                 \u001b[1;32mraise\u001b[0m \u001b[0mKeyboardInterrupt\u001b[0m\u001b[1;33m(\u001b[0m\u001b[1;34m\"Interrupted by user\"\u001b[0m\u001b[1;33m)\u001b[0m \u001b[1;32mfrom\u001b[0m \u001b[1;32mNone\u001b[0m\u001b[1;33m\u001b[0m\u001b[1;33m\u001b[0m\u001b[0m\n\u001b[0m\u001b[0;32m   1052\u001b[0m             \u001b[1;32mexcept\u001b[0m \u001b[0mException\u001b[0m\u001b[1;33m:\u001b[0m\u001b[1;33m\u001b[0m\u001b[1;33m\u001b[0m\u001b[0m\n\u001b[0;32m   1053\u001b[0m                 \u001b[0mself\u001b[0m\u001b[1;33m.\u001b[0m\u001b[0mlog\u001b[0m\u001b[1;33m.\u001b[0m\u001b[0mwarning\u001b[0m\u001b[1;33m(\u001b[0m\u001b[1;34m\"Invalid Message:\"\u001b[0m\u001b[1;33m,\u001b[0m \u001b[0mexc_info\u001b[0m\u001b[1;33m=\u001b[0m\u001b[1;32mTrue\u001b[0m\u001b[1;33m)\u001b[0m\u001b[1;33m\u001b[0m\u001b[1;33m\u001b[0m\u001b[0m\n",
      "\u001b[1;31mKeyboardInterrupt\u001b[0m: Interrupted by user"
     ]
    }
   ],
   "source": [
    "dict = {}\n",
    "while True:\n",
    "    command = input('Введите команду: ')\n",
    "    if command == 'Добавить контакт':\n",
    "        name = input('Введите фамилию и имя: ')\n",
    "        phone_number = input('Введите номер телефона: ')\n",
    "        if name in dict.keys():\n",
    "            print('Этот человек уже есть в словаре')\n",
    "        dict[name] = phone_number\n",
    "        print(dict)\n",
    "    elif command == 'Поиск по фамилии':\n",
    "        surname = input('Введите фамилию: ')\n",
    "        for k in dict.keys():\n",
    "            if surname.lower() == k.split()[0].lower():\n",
    "                print(k, dict[k])"
   ]
  },
  {
   "cell_type": "markdown",
   "id": "53af45e6",
   "metadata": {},
   "source": [
    "## number 9"
   ]
  },
  {
   "cell_type": "code",
   "execution_count": 14,
   "id": "eb34b758",
   "metadata": {},
   "outputs": [
    {
     "name": "stdout",
     "output_type": "stream",
     "text": [
      "Сколько записей вносится в протокол? 9\n",
      "Записи (результат и имя):\n",
      "1 запись:69485 Jack\n",
      "2 запись:95715 qwerty\n",
      "3 запись:95715 Alex\n",
      "4 запись: 83647 M\n",
      "5 запись:197128 qwerty\n",
      "6 запись:95715 Jack\n",
      "7 запись: 93289 Alex \n",
      "8 запись:95715 Alex \n",
      "9 запись: 95715 M\n",
      "Итоги соревнований:\n",
      "1 место. qwerty (197128)\n",
      "2 место. Alex (95715)\n",
      "3 место. Jack (95715)\n"
     ]
    }
   ],
   "source": [
    "def resball(a):\n",
    "    return a[1][1] - a[1][0] \n",
    "\n",
    "\n",
    "number = int(input('Сколько записей вносится в протокол? '))\n",
    "dict1 = {}\n",
    "print('Записи (результат и имя):')\n",
    "for k in range(number):\n",
    "    print(k+1, 'запись:', end='')\n",
    "    ball, name = input().split()\n",
    "    ball = int(ball)\n",
    "    if name not in dict1:\n",
    "        dict1[name] = [k+1, ball]\n",
    "    else:\n",
    "        if ball > dict1[name][1]:\n",
    "            dict1[name][0] = k+1\n",
    "            dict1[name][1] = ball       \n",
    "res = list(dict1.items())\n",
    "res.sort(key=resball, reverse=True)\n",
    "print('Итоги соревнований:')\n",
    "for i in range(3):\n",
    "    print(f'{i+1} место. {res[i][0]} ({res[i][1][1]})')\n"
   ]
  },
  {
   "cell_type": "markdown",
   "id": "934318ce",
   "metadata": {},
   "source": [
    "## number 10"
   ]
  },
  {
   "cell_type": "code",
   "execution_count": 73,
   "id": "a4155705",
   "metadata": {},
   "outputs": [
    {
     "name": "stdout",
     "output_type": "stream",
     "text": [
      "<generator object <genexpr> at 0x000002A4000EA2E0>\n",
      "('a', 10)\n",
      "('b', 20)\n",
      "('c', 30)\n",
      "('d', 40)\n"
     ]
    }
   ],
   "source": [
    "tup = (10, 20, 30, 40)\n",
    "line =  'abcd'\n",
    "a = ((line[i], tup[i]) for i in range(4))\n",
    "print(a)\n",
    "for e in range(4):\n",
    "    print(next(a))"
   ]
  }
 ],
 "metadata": {
  "celltoolbar": "Необработанный формат ячейки",
  "kernelspec": {
   "display_name": "Python 3 (ipykernel)",
   "language": "python",
   "name": "python3"
  },
  "language_info": {
   "codemirror_mode": {
    "name": "ipython",
    "version": 3
   },
   "file_extension": ".py",
   "mimetype": "text/x-python",
   "name": "python",
   "nbconvert_exporter": "python",
   "pygments_lexer": "ipython3",
   "version": "3.9.7"
  }
 },
 "nbformat": 4,
 "nbformat_minor": 5
}
