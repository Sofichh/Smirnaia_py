{
 "cells": [
  {
   "cell_type": "markdown",
   "id": "d291d9a2",
   "metadata": {},
   "source": [
    "## number 1"
   ]
  },
  {
   "cell_type": "code",
   "execution_count": 7,
   "id": "96561a44",
   "metadata": {},
   "outputs": [
    {
     "name": "stdout",
     "output_type": "stream",
     "text": [
      "Введите число: 3\n",
      "Класс итератор:\n",
      "1\n",
      "4\n",
      "9\n",
      "Функция-генератор\n",
      "1\n",
      "4\n",
      "9\n",
      "Генераторное выражение\n",
      "1\n",
      "4\n",
      "9\n"
     ]
    }
   ],
   "source": [
    "class Iterator:\n",
    "    \n",
    "    \n",
    "    def __init__(self, num):\n",
    "        self.num = num\n",
    "        self.counter = 0\n",
    "        \n",
    "        \n",
    "    def __next__(self):\n",
    "        if self.counter < self.num:\n",
    "            self.counter += 1\n",
    "            return self.counter**2\n",
    "        else:\n",
    "            raise StopIteration        \n",
    "\n",
    "            \n",
    "def iterat(number):\n",
    "    counter = 0\n",
    "    while counter < number:\n",
    "        counter += 1\n",
    "        yield counter**2\n",
    "        \n",
    "\n",
    "n = int(input('Введите число: '))\n",
    "generator = (num**2 for num in range(1,n+1))\n",
    "it = Iterator(n)\n",
    "print('Класс итератор:')\n",
    "for i in range(n):\n",
    "    print(it.__next__()) \n",
    "print('Функция-генератор')\n",
    "for num in iterat(n):\n",
    "    print(num)\n",
    "print('Генераторное выражение')\n",
    "for i in range(n):\n",
    "    print(next(generator))"
   ]
  },
  {
   "cell_type": "markdown",
   "id": "e65c32f8",
   "metadata": {},
   "source": [
    "## number 2"
   ]
  },
  {
   "cell_type": "code",
   "execution_count": 10,
   "id": "76d2fcd6",
   "metadata": {},
   "outputs": [
    {
     "name": "stdout",
     "output_type": "stream",
     "text": [
      "2 3 6\n",
      "2 8 16\n",
      "2 4 8\n",
      "2 9 18\n",
      "5 3 15\n",
      "5 8 40\n",
      "5 4 20\n",
      "5 9 45\n",
      "7 3 21\n",
      "7 8 56\n",
      "Found!!!\n"
     ]
    }
   ],
   "source": [
    "list_1 = [2, 5, 7, 10]\n",
    "list_2 = [3, 8, 4, 9]\n",
    "to_find = 56\n",
    "can_continue = True\n",
    "\n",
    "\n",
    "def generator(lst1,lst2):\n",
    "    for k in lst1:\n",
    "        for l in lst2:\n",
    "            yield k, l\n",
    "            \n",
    "            \n",
    "for x, y in generator(list_1, list_2):\n",
    "    result = x * y\n",
    "    print(x, y, result)\n",
    "    if x * y == 56:\n",
    "        print('Found!!!')\n",
    "        break\n"
   ]
  },
  {
   "cell_type": "markdown",
   "id": "d1512e3c",
   "metadata": {},
   "source": [
    "## number 3"
   ]
  },
  {
   "cell_type": "code",
   "execution_count": 18,
   "id": "95c582ab",
   "metadata": {},
   "outputs": [
    {
     "name": "stdout",
     "output_type": "stream",
     "text": [
      "Введите название искомого каталога: пин\n",
      ".\\Desktop\\пин\\0.jpg\n",
      ".\\Desktop\\пин\\1.jpg\n",
      ".\\Desktop\\пин\\11.jpg\n",
      ".\\Desktop\\пин\\2.jpg\n",
      ".\\Desktop\\пин\\23.jpg\n",
      ".\\Desktop\\пин\\3.jpg\n",
      ".\\Desktop\\пин\\7.jpg\n",
      ".\\Desktop\\пин\\9.jpg\n",
      ".\\Desktop\\пин\\99.jpg\n",
      ".\\Desktop\\пин\\beatles.jpg\n",
      ".\\Desktop\\пин\\еу.jpg\n",
      ".\\Desktop\\пин\\космо2.jfif\n",
      ".\\Desktop\\пин\\небо.jpg\n"
     ]
    }
   ],
   "source": [
    "import os\n",
    "\n",
    "\n",
    "def gen_files_path(catalog):\n",
    "    for dirpath, dirnames, filenames in os.walk(\".\"):\n",
    "        for dirname in dirnames:\n",
    "            if dirname == catalog:\n",
    "                for dirpath, dirnames, filenames in os.walk(os.path.join(dirpath, dirname)):\n",
    "                    for filename in filenames:\n",
    "                        yield os.path.join(dirpath, filename)\n",
    "                    \n",
    "                    \n",
    "catalog = input('Введите название искомого каталога: ')\n",
    "for file in gen_files_path(catalog):\n",
    "    print(file)"
   ]
  },
  {
   "cell_type": "markdown",
   "id": "1e4a3c8e",
   "metadata": {},
   "source": [
    "## number 4"
   ]
  },
  {
   "cell_type": "code",
   "execution_count": 24,
   "id": "0200dc38",
   "metadata": {},
   "outputs": [
    {
     "name": "stdout",
     "output_type": "stream",
     "text": [
      "5 6 6 6 8 8 8 10 9 10 11 11 12 12 12 12 16 14 14 16 16 16 16 20 17 17 20 21 19 20 22 21 22 23 23 24 24 24 24 24 32 24 25 30 28 26 30 30 28 32 30 32 32 32 32 40 33 31 38 35 33 39 40 37 38 40 39 40 39 42 40 "
     ]
    }
   ],
   "source": [
    "def QHofstadter(lst):\n",
    "    Q = []\n",
    "    if lst == [1,1]:\n",
    "        lst[1] = 100\n",
    "    for k in range(lst[1]):\n",
    "        if (k == 0) or (k == 1):\n",
    "            Q.append(1) \n",
    "        else:\n",
    "            Q.append(Q[k-Q[k-1]] + Q[k-Q[k-2]])\n",
    "    for n in range(lst[0]-1, lst[1]):\n",
    "            yield Q[n]\n",
    "\n",
    "            \n",
    "for i in QHofstadter([8, 78]):\n",
    "    print(i, end=' ')"
   ]
  },
  {
   "cell_type": "markdown",
   "id": "34259221",
   "metadata": {},
   "source": [
    "## number 5"
   ]
  },
  {
   "cell_type": "code",
   "execution_count": 42,
   "id": "b64f046b",
   "metadata": {},
   "outputs": [
    {
     "name": "stdout",
     "output_type": "stream",
     "text": [
      "Введите название директории: homework09\n",
      "Всего строк кода в директории homework09: 206681\n"
     ]
    }
   ],
   "source": [
    "import os \n",
    "\n",
    "\n",
    "def gen_files_path(catalog):\n",
    "    for dirpath, dirnames, filenames in os.walk(\".\"):\n",
    "        for dirname in dirnames:\n",
    "            if dirname == catalog:\n",
    "                for dirpath, dirnames, filenames in os.walk(os.path.join(dirpath, dirname)):\n",
    "                    for filename in filenames:\n",
    "                        if filename[-3:] == '.py':\n",
    "                            f = open(os.path.join(dirpath, filename), 'r', encoding = 'utf-8')\n",
    "                            for line in f:\n",
    "                                if (len(line) != 0) or (line.lstrip()[0:1] != '#') or (line.lstrip()[0:3] != '\\'''') or (line.lstrip()[0:3] != '\"\"\"'):\n",
    "                                    yield 1\n",
    "                    \n",
    "                    \n",
    "catalog = input('Введите название директории: ')\n",
    "lines = 0\n",
    "for k in gen_files_path(catalog):\n",
    "    lines += k\n",
    "print(f'Всего строк кода в директории {catalog}:', lines)"
   ]
  },
  {
   "cell_type": "markdown",
   "id": "5cffb1b1",
   "metadata": {},
   "source": [
    "## number 6"
   ]
  },
  {
   "cell_type": "code",
   "execution_count": 43,
   "id": "ee277d12",
   "metadata": {},
   "outputs": [
    {
     "name": "stdout",
     "output_type": "stream",
     "text": [
      "Текущий список: [10 20 30]\n",
      "Получение третьего элемента: 30\n",
      "Удаление второго элемента.\n",
      "Новый список: [10 30]\n"
     ]
    }
   ],
   "source": [
    "class LinkedList:\n",
    "    class Node:\n",
    "        \n",
    "        \n",
    "        def __init__(self, value):\n",
    "            self.value = value\n",
    "            self.next = None\n",
    " \n",
    "\n",
    "    def __init__(self, *args):\n",
    "        length = len(args)\n",
    "        self.length = length\n",
    "        self.head = self.Node(args[0]) if length > 0 else None\n",
    "        self.end = self.head\n",
    "        for i in range(1, length):\n",
    "            self.end.next = self.Node(args[i])\n",
    "            self.end = self.end.next\n",
    " \n",
    "\n",
    "    def __iter__(self):\n",
    "        node = self.head\n",
    "        while node is not None:\n",
    "            yield node.value\n",
    "            node = node.next\n",
    " \n",
    "\n",
    "    def __str__(self):\n",
    "        return f\"[{' '.join(str(i) for i in self)}]\"\n",
    "    \n",
    " \n",
    "    def append(self, value):\n",
    "        if self.length > 0:\n",
    "            self.end.next = self.Node(value)\n",
    "            self.end = self.end.next\n",
    "        else:\n",
    "            self.head = self.end = self.Node(value)\n",
    "        self.length += 1\n",
    "        \n",
    "        \n",
    "    def indcheck(self, index):\n",
    "        if (0 > index) or (index > self.length):\n",
    "            raise IndexError\n",
    " \n",
    "\n",
    "    def get(self, index):\n",
    "        self.indcheck(index)\n",
    "        node = self.head\n",
    "        for _ in range(index):\n",
    "            node = node.next\n",
    "        return node.value\n",
    " \n",
    "\n",
    "    def remove(self, index):\n",
    "        self.indcheck(index)\n",
    "        if self.length == 1:\n",
    "            self.head = self.end = None\n",
    "        elif index == 0:\n",
    "            self.head = self.head.next\n",
    "        else:\n",
    "            node = self.head\n",
    "            for _ in range(index - 1):\n",
    "                node = node.next\n",
    "            node.next = node.next.next\n",
    "            if index == self.length - 1:\n",
    "                self.end = node\n",
    "        self.length -= 1\n",
    "        \n",
    "        \n",
    "my_list = LinkedList()\n",
    "my_list.append(10)\n",
    "my_list.append(20)\n",
    "my_list.append(30)\n",
    "print('Текущий список:', my_list)\n",
    "print('Получение третьего элемента:', my_list.get(2))\n",
    "print('Удаление второго элемента.')\n",
    "my_list.remove(1)\n",
    "print('Новый список:', my_list)"
   ]
  }
 ],
 "metadata": {
  "kernelspec": {
   "display_name": "Python 3 (ipykernel)",
   "language": "python",
   "name": "python3"
  },
  "language_info": {
   "codemirror_mode": {
    "name": "ipython",
    "version": 3
   },
   "file_extension": ".py",
   "mimetype": "text/x-python",
   "name": "python",
   "nbconvert_exporter": "python",
   "pygments_lexer": "ipython3",
   "version": "3.9.7"
  }
 },
 "nbformat": 4,
 "nbformat_minor": 5
}
