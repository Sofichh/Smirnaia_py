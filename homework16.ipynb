{
 "cells": [
  {
   "cell_type": "markdown",
   "id": "92298137",
   "metadata": {},
   "source": [
    "## number 1"
   ]
  },
  {
   "cell_type": "code",
   "execution_count": 7,
   "id": "42f3483e",
   "metadata": {},
   "outputs": [
    {
     "name": "stdout",
     "output_type": "stream",
     "text": [
      "Введите число, до которого вы бы хотели произвести вывод: 8\n",
      "1\n",
      "2\n",
      "3\n",
      "4\n",
      "5\n",
      "6\n",
      "7\n",
      "8\n"
     ]
    }
   ],
   "source": [
    "def printnum(k, res):\n",
    "    if k > 0:\n",
    "        res.insert(0, k)\n",
    "        return printnum(k-1, res)\n",
    "    elif k == 0:\n",
    "        return res\n",
    "    \n",
    "    \n",
    "n = int(input('Введите число, до которого вы бы хотели произвести вывод: '))\n",
    "print(*printnum(n, []), sep='\\n')"
   ]
  },
  {
   "cell_type": "markdown",
   "id": "7d6fc8cf",
   "metadata": {},
   "source": [
    "## number 2"
   ]
  },
  {
   "cell_type": "code",
   "execution_count": 6,
   "id": "a0b6ae30",
   "metadata": {},
   "outputs": [
    {
     "name": "stdout",
     "output_type": "stream",
     "text": [
      "[(1, 'a'), (2, 'b'), (4, 'c'), ('v', 'd'), ('y', 'e'), (3, 'f')]\n"
     ]
    }
   ],
   "source": [
    "def zipp(gen):\n",
    "    try:\n",
    "        yield next(gen)\n",
    "        yield from zipp(gen)\n",
    "    except StopIteration:\n",
    "        return\n",
    "    \n",
    "    \n",
    "    \n",
    "\n",
    "lst = [1,2,4,'v','y',3]\n",
    "tpl = (9,4,'g','d',5,3,5,'c')\n",
    "line = 'abcdefg'\n",
    "v = {3,4,6,2}\n",
    "ob1 = lst\n",
    "ob2 = line\n",
    "generator = ((ob1[i], ob2[i]) for i in range((min(len(ob1), len(ob2)))))\n",
    "print(list(zipp(generator)))\n",
    "      "
   ]
  },
  {
   "cell_type": "markdown",
   "id": "c23ad33e",
   "metadata": {},
   "source": [
    "## number 3"
   ]
  },
  {
   "cell_type": "code",
   "execution_count": 7,
   "id": "e127cf20",
   "metadata": {},
   "outputs": [
    {
     "name": "stdout",
     "output_type": "stream",
     "text": [
      "Введите позицию числа в ряде Фибоначчи: 6\n",
      "Число: 8\n"
     ]
    }
   ],
   "source": [
    "num = int(input('Введите позицию числа в ряде Фибоначчи: '))\n",
    "\n",
    "\n",
    "def fib(n):\n",
    "    if n in [1,2]:\n",
    "        return 1\n",
    "    else:\n",
    "        return fib(n - 2) + fib(n - 1)\n",
    "    \n",
    "    \n",
    "print('Число:', fib(num))"
   ]
  },
  {
   "cell_type": "markdown",
   "id": "cb567167",
   "metadata": {},
   "source": [
    "## number 4"
   ]
  },
  {
   "cell_type": "code",
   "execution_count": 13,
   "id": "618e9997",
   "metadata": {},
   "outputs": [
    {
     "name": "stdout",
     "output_type": "stream",
     "text": [
      "Введите ключ: head\n",
      "{'title': 'Мой сайт'}\n"
     ]
    }
   ],
   "source": [
    "site = {\n",
    "    'html': {\n",
    "        'head': {\n",
    "            'title': 'Мой сайт'\n",
    "        },\n",
    "        'body': {\n",
    "            'h2': 'Здесь будет мой заголовок',\n",
    "            'div': 'Тут, наверное, какой-то блок',\n",
    "            'p': 'А вот здесь новый абзац'}\n",
    "    }\n",
    "}\n",
    "key = input('Введите ключ: ') \n",
    "\n",
    "\n",
    "def dictionary(dict1, key1 = key):\n",
    "    if key1 in dict1.keys():\n",
    "        return dict1[key1]\n",
    "    else:\n",
    "        for i in dict1.keys():\n",
    "            if isinstance(dict1[i], dict): \n",
    "                result = dictionary(dict1[i])\n",
    "                if result:\n",
    "                    break\n",
    "            else:\n",
    "                result = None\n",
    "        return result\n",
    "    \n",
    "                \n",
    "print(dictionary(site))"
   ]
  },
  {
   "cell_type": "markdown",
   "id": "60e25a84",
   "metadata": {},
   "source": [
    "## number 5"
   ]
  },
  {
   "cell_type": "code",
   "execution_count": 4,
   "id": "a2f48cb8",
   "metadata": {},
   "outputs": [
    {
     "name": "stdout",
     "output_type": "stream",
     "text": [
      "Входные данные: 10\n",
      "Выходные данные: 3.9594086612242536e+35\n"
     ]
    }
   ],
   "source": [
    "data1 = int(input('Входные данные: '))\n",
    "\n",
    "def calculating_math_func(data=data1):\n",
    "    result = 1\n",
    "    for index in range(1, data + 1):\n",
    "        result *= index\n",
    "    result /= data ** 3\n",
    "    result = result ** 10\n",
    "    return result\n",
    "\n",
    "\n",
    "print('Выходные данные:', calculating_math_func())"
   ]
  },
  {
   "cell_type": "markdown",
   "id": "743fa7ab",
   "metadata": {},
   "source": [
    "## number 6"
   ]
  },
  {
   "cell_type": "code",
   "execution_count": 4,
   "id": "e9204151",
   "metadata": {},
   "outputs": [
    {
     "name": "stdout",
     "output_type": "stream",
     "text": [
      "Сколько сайтов: 2\n",
      "Введите название продукта для нового сайта: ip\n",
      "Сайт для ip:\n",
      "{'html': {'head': {'title': 'Куплю/продам ip недорого'}, 'body': {'h2': 'У нас самая низкая цена на ip', 'div': 'Купить', 'p': 'Продать'}}}\n",
      "Введите название продукта для нового сайта: g\n",
      "Сайт для ip:\n",
      "{'html': {'head': {'title': 'Куплю/продам ip недорого'}, 'body': {'h2': 'У нас самая низкая цена на ip', 'div': 'Купить', 'p': 'Продать'}}}\n",
      "Сайт для g:\n",
      "{'html': {'head': {'title': 'Куплю/продам g недорого'}, 'body': {'h2': 'У нас самая низкая цена на g', 'div': 'Купить', 'p': 'Продать'}}}\n"
     ]
    }
   ],
   "source": [
    "num = int(input('Сколько сайтов: '))\n",
    "\n",
    "\n",
    "def sitestr(name, lstt):\n",
    "    site = {\n",
    "        'html': {\n",
    "            'head': {'title': f'Куплю/продам {name} недорого'},\n",
    "            'body': {'h2': f'У нас самая низкая цена на {name}',\n",
    "                     'div': 'Купить',\n",
    "                     'p': 'Продать'}}}\n",
    "    lstt.append([name1, site])\n",
    "    return site\n",
    "\n",
    "\n",
    "lst = []\n",
    "for i in range(num):\n",
    "    name1 = input('Введите название продукта для нового сайта: ')\n",
    "    site1 = sitestr(name1, lst)\n",
    "    for i in range(len(lst)):\n",
    "            print('Сайт для ', lst[i][0],':', sep='')\n",
    "            print(lst[i][1])\n",
    "   \n",
    "    "
   ]
  },
  {
   "cell_type": "code",
   "execution_count": 7,
   "id": "5a1d425c",
   "metadata": {},
   "outputs": [
    {
     "name": "stdout",
     "output_type": "stream",
     "text": [
      "Сколько будет сайтов: 3\n",
      "Введите название продукта для нового сайта: yt\n",
      "Сайт для yt:\n",
      "Сайт для yt:\n",
      "{'html': {'head': {'title': 'Куплю/продам yt недорого'}, 'body': {'h2': 'У нас самая низкая цена на yt', 'div': 'Купить', 'p': 'продать'}}}\n",
      "Введите название продукта для нового сайта: rt\n",
      "Сайт для rt:\n",
      "Сайт для yt:\n",
      "{'html': {'head': {'title': 'Куплю/продам yt недорого'}, 'body': {'h2': 'У нас самая низкая цена на yt', 'div': 'Купить', 'p': 'продать'}}}\n",
      "Сайт для rt:\n",
      "{'html': {'head': {'title': 'Куплю/продам rt недорого'}, 'body': {'h2': 'У нас самая низкая цена на rt', 'div': 'Купить', 'p': 'продать'}}}\n",
      "Введите название продукта для нового сайта: io\n",
      "Сайт для io:\n",
      "Сайт для yt:\n",
      "{'html': {'head': {'title': 'Куплю/продам yt недорого'}, 'body': {'h2': 'У нас самая низкая цена на yt', 'div': 'Купить', 'p': 'продать'}}}\n",
      "Сайт для rt:\n",
      "{'html': {'head': {'title': 'Куплю/продам rt недорого'}, 'body': {'h2': 'У нас самая низкая цена на rt', 'div': 'Купить', 'p': 'продать'}}}\n",
      "Сайт для io:\n",
      "{'html': {'head': {'title': 'Куплю/продам io недорого'}, 'body': {'h2': 'У нас самая низкая цена на io', 'div': 'Купить', 'p': 'продать'}}}\n"
     ]
    }
   ],
   "source": [
    "import copy\n",
    "\n",
    "site = {\n",
    "    'html': {\n",
    "        'head': {\n",
    "            'title': 'Куплю/продам телефон недорого'\n",
    "        },\n",
    "        'body': {\n",
    "            'h2': 'У нас самая низкая цена на iphone',\n",
    "            'div': 'Купить',\n",
    "            'p': 'продать'\n",
    "        }\n",
    "    }\n",
    "}\n",
    "\n",
    "\n",
    "def func(site, num, lst):\n",
    "    if num > 0:\n",
    "        prod = input('Введите название продукта для нового сайта: ')\n",
    "        print(f'Сайт для {prod}:')\n",
    "        if num == numbofsite:\n",
    "            site_copy = copy.copy(site)\n",
    "        else:\n",
    "            site_copy = copy.deepcopy(site)\n",
    "        site_copy['html']['head']['title'] = f'Куплю/продам {prod} недорого'\n",
    "        site_copy['html']['body']['h2'] = f'У нас самая низкая цена на {prod}'\n",
    "        lst.append([prod, site_copy])\n",
    "        for i in range(len(lst)):\n",
    "            print('Сайт для ', lst[i][0],':', sep='')\n",
    "            print(lst[i][1])\n",
    "        func(site_copy, num-1, lst)\n",
    "        \n",
    "\n",
    "\n",
    "numbofsite = int(input('Сколько будет сайтов: '))\n",
    "lstt = []\n",
    "func(site, numbofsite, lstt)"
   ]
  },
  {
   "cell_type": "markdown",
   "id": "abdd4fd5",
   "metadata": {},
   "source": [
    "## number 7"
   ]
  },
  {
   "cell_type": "code",
   "execution_count": 38,
   "id": "0b0a52ca",
   "metadata": {},
   "outputs": [
    {
     "name": "stdout",
     "output_type": "stream",
     "text": [
      "Ответ:  15\n",
      "Ответ:  10\n"
     ]
    }
   ],
   "source": [
    "def unpacking(lst):\n",
    "    res = []\n",
    "    for i in lst:\n",
    "        if isinstance(i, list):\n",
    "            lst.extend(unpacking(i))\n",
    "        else: \n",
    "            res.append(i)\n",
    "    return res\n",
    "\n",
    "\n",
    "def sum(*num):\n",
    "    summ = 0\n",
    "    if isinstance(num[0], list):\n",
    "        lst1 = unpacking(num[0])\n",
    "        for k in lst1:\n",
    "            summ += k\n",
    "    else:\n",
    "        for n in num:\n",
    "            summ += n\n",
    "    print(\"Ответ: \", summ)\n",
    "    \n",
    "    \n",
    "sum(1, 2, 3, 4, 5)\n",
    "sum([[1, 2, [3]], [1], 3])"
   ]
  },
  {
   "cell_type": "markdown",
   "id": "ea0ba55d",
   "metadata": {},
   "source": [
    "## number 8"
   ]
  },
  {
   "cell_type": "code",
   "execution_count": 4,
   "id": "126ac0cf",
   "metadata": {},
   "outputs": [
    {
     "name": "stdout",
     "output_type": "stream",
     "text": [
      "[1, 2, 3, 4, 5, 6, 7, 8, 9, 10, 11, 12, 13, 14, 15, 16, 17, 18]\n"
     ]
    }
   ],
   "source": [
    "nice_list = [1, 2, [3, 4], [[5, 6, 7], [8, 9, 10]], [[11, 12, 13], [14, 15], [16, 17, 18]]]\n",
    "\n",
    "\n",
    "def unpacking(lst):\n",
    "    res = []\n",
    "    for i in lst:\n",
    "        if type(i) == list:\n",
    "            lst.extend(unpacking(i))\n",
    "        else: \n",
    "            res.append(i)\n",
    "    return res\n",
    "            \n",
    "            \n",
    "print(unpacking(nice_list))"
   ]
  },
  {
   "cell_type": "markdown",
   "id": "954fcbeb",
   "metadata": {},
   "source": [
    "## number 9"
   ]
  },
  {
   "cell_type": "code",
   "execution_count": 7,
   "id": "846c22bb",
   "metadata": {},
   "outputs": [
    {
     "name": "stdout",
     "output_type": "stream",
     "text": [
      "Введите число дисков: 3\n",
      "1 1 3\n",
      "2 1 2\n",
      "1 3 2\n",
      "3 1 3\n",
      "1 2 1\n",
      "2 2 3\n",
      "1 1 3\n"
     ]
    }
   ],
   "source": [
    "def funch(n, x, y):\n",
    "    if n == 1:\n",
    "        print(1, x, y)\n",
    "    else:\n",
    "        funch(n-1, x, 6-x-y)\n",
    "        print(n, x, y)\n",
    "        funch(n-1, 6-x-y, y)\n",
    "        \n",
    "        \n",
    "n = int(input('Введите число дисков: '))\n",
    "funch(n, 1, 3)"
   ]
  }
 ],
 "metadata": {
  "kernelspec": {
   "display_name": "Python 3 (ipykernel)",
   "language": "python",
   "name": "python3"
  },
  "language_info": {
   "codemirror_mode": {
    "name": "ipython",
    "version": 3
   },
   "file_extension": ".py",
   "mimetype": "text/x-python",
   "name": "python",
   "nbconvert_exporter": "python",
   "pygments_lexer": "ipython3",
   "version": "3.9.7"
  }
 },
 "nbformat": 4,
 "nbformat_minor": 5
}
